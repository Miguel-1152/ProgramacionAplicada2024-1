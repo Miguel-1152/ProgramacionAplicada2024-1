{
 "cells": [
  {
   "cell_type": "code",
   "execution_count": null,
   "id": "06e89e33",
   "metadata": {},
   "outputs": [],
   "source": [
    "Import pandas as pd\n",
    "number = [1, 2, 3, 4, 5, 6]\n",
    "pd.Dataframe (numbers)"
   ]
  },
  {
   "cell_type": "code",
   "execution_count": null,
   "id": "277e9f9e",
   "metadata": {},
   "outputs": [],
   "source": [
    "data = [[\"Jhon\", 23 ], [\"Mary\", 18], [\"Jhon\", 31] ]\n",
    "pd.Dataframe (data)"
   ]
  },
  {
   "cell_type": "code",
   "execution_count": null,
   "id": "5c3ddb8c",
   "metadata": {},
   "outputs": [],
   "source": [
    "pd.Dataframe (data, colums = [\"name\", \"age\"])"
   ]
  },
  {
   "cell_type": "code",
   "execution_count": null,
   "id": "3c2ea523",
   "metadata": {},
   "outputs": [],
   "source": [
    "pd.Dataframe (data, colums = [\"name\", \"age\"], index = [\"id1\", \"id2\", \"id3\"])"
   ]
  }
 ],
 "metadata": {
  "kernelspec": {
   "display_name": "Python 3 (ipykernel)",
   "language": "python",
   "name": "python3"
  },
  "language_info": {
   "codemirror_mode": {
    "name": "ipython",
    "version": 3
   },
   "file_extension": ".py",
   "mimetype": "text/x-python",
   "name": "python",
   "nbconvert_exporter": "python",
   "pygments_lexer": "ipython3",
   "version": "3.11.5"
  }
 },
 "nbformat": 4,
 "nbformat_minor": 5
}
