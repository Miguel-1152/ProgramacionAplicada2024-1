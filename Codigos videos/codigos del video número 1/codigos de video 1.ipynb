{
 "cells": [
  {
   "cell_type": "code",
   "execution_count": 2,
   "id": "5b35e99b",
   "metadata": {},
   "outputs": [],
   "source": [
    "import pandas as pd \n",
    "pd.read_csv(\"Cities.csv\")"
   ]
  },
  {
   "cell_type": "code",
   "execution_count": 4,
   "id": "c79e6374",
   "metadata": {},
   "outputs": [],
   "source": [
    "cities = pd.read_csv(\"Cities.csv\", usecols = [\"City\"])\n",
    "pop = pd.read_csv(\"Cities.csv\", usecols = [\"Population\"])\n",
    "#cities\n",
    "pop.head(3)"
   ]
  },
  {
   "cell_type": "code",
   "execution_count": 6,
   "id": "303f1531",
   "metadata": {},
   "outputs": [
    {
     "data": {
      "text/html": [
       "<div>\n",
       "<style scoped>\n",
       "    .dataframe tbody tr th:only-of-type {\n",
       "        vertical-align: middle;\n",
       "    }\n",
       "\n",
       "    .dataframe tbody tr th {\n",
       "        vertical-align: top;\n",
       "    }\n",
       "\n",
       "    .dataframe thead th {\n",
       "        text-align: right;\n",
       "    }\n",
       "</style>\n",
       "<table border=\"1\" class=\"dataframe\">\n",
       "  <thead>\n",
       "    <tr style=\"text-align: right;\">\n",
       "      <th></th>\n",
       "      <th>name</th>\n",
       "      <th>age</th>\n",
       "      <th>gender</th>\n",
       "    </tr>\n",
       "  </thead>\n",
       "  <tbody>\n",
       "    <tr>\n",
       "      <th>0</th>\n",
       "      <td>Sally</td>\n",
       "      <td>4</td>\n",
       "      <td>female</td>\n",
       "    </tr>\n",
       "    <tr>\n",
       "      <th>1</th>\n",
       "      <td>Jhon</td>\n",
       "      <td>6</td>\n",
       "      <td>male</td>\n",
       "    </tr>\n",
       "    <tr>\n",
       "      <th>2</th>\n",
       "      <td>Kim</td>\n",
       "      <td>7</td>\n",
       "      <td>male</td>\n",
       "    </tr>\n",
       "  </tbody>\n",
       "</table>\n",
       "</div>"
      ],
      "text/plain": [
       "    name  age  gender\n",
       "0  Sally    4  female\n",
       "1   Jhon    6    male\n",
       "2    Kim    7    male"
      ]
     },
     "execution_count": 6,
     "metadata": {},
     "output_type": "execute_result"
    }
   ],
   "source": [
    "cities.head (n = 5)"
   ]
  },
  {
   "cell_type": "code",
   "execution_count": 9,
   "id": "9354aa40",
   "metadata": {},
   "outputs": [
    {
     "data": {
      "text/html": [
       "<div>\n",
       "<style scoped>\n",
       "    .dataframe tbody tr th:only-of-type {\n",
       "        vertical-align: middle;\n",
       "    }\n",
       "\n",
       "    .dataframe tbody tr th {\n",
       "        vertical-align: top;\n",
       "    }\n",
       "\n",
       "    .dataframe thead th {\n",
       "        text-align: right;\n",
       "    }\n",
       "</style>\n",
       "<table border=\"1\" class=\"dataframe\">\n",
       "  <thead>\n",
       "    <tr style=\"text-align: right;\">\n",
       "      <th></th>\n",
       "      <th>name</th>\n",
       "      <th>age</th>\n",
       "      <th>gender</th>\n",
       "    </tr>\n",
       "  </thead>\n",
       "  <tbody>\n",
       "    <tr>\n",
       "      <th>Kid1</th>\n",
       "      <td>Sally</td>\n",
       "      <td>4</td>\n",
       "      <td>female</td>\n",
       "    </tr>\n",
       "    <tr>\n",
       "      <th>Kid2</th>\n",
       "      <td>Jhon</td>\n",
       "      <td>6</td>\n",
       "      <td>male</td>\n",
       "    </tr>\n",
       "    <tr>\n",
       "      <th>Kid3</th>\n",
       "      <td>Kim</td>\n",
       "      <td>7</td>\n",
       "      <td>male</td>\n",
       "    </tr>\n",
       "  </tbody>\n",
       "</table>\n",
       "</div>"
      ],
      "text/plain": [
       "       name  age  gender\n",
       "Kid1  Sally    4  female\n",
       "Kid2   Jhon    6    male\n",
       "Kid3    Kim    7    male"
      ]
     },
     "execution_count": 9,
     "metadata": {},
     "output_type": "execute_result"
    }
   ],
   "source": [
    "cities.tall (n = 5)"
   ]
  },
  {
   "cell_type": "code",
   "execution_count": null,
   "id": "06e89e33",
   "metadata": {},
   "outputs": [],
   "source": [
    "#cities.sort_values()\n",
    "cities.sort_values(by = [\"City\"], ascending = False)"
   ]
  },
  {
   "cell_type": "code",
   "execution_count": null,
   "id": "277e9f9e",
   "metadata": {},
   "outputs": [],
   "source": [
    "#cities.sort_values()\n",
    "cities.sort_values(by = [\"City\"])"
   ]
  },
  {
   "cell_type": "code",
   "execution_count": null,
   "id": "5c3ddb8c",
   "metadata": {},
   "outputs": [],
   "source": [
    "cities.sort_values(by = [\"City\"], ascending = False). head()"
   ]
  },
  {
   "cell_type": "code",
   "execution_count": null,
   "id": "3c2ea523",
   "metadata": {},
   "outputs": [],
   "source": [
    "cities.sort_values(by = [\"City\"], ascending = False, inplace = True)\n",
    "print(cities)"
   ]
  },
  {
   "cell_type": "code",
   "execution_count": null,
   "id": "9e2c0e59",
   "metadata": {},
   "outputs": [],
   "source": [
    "citie.sort_index(ascending = True, inplace = True)\n"
   ]
  },
  {
   "cell_type": "code",
   "execution_count": null,
   "id": "36a9b00b",
   "metadata": {},
   "outputs": [],
   "source": [
    "cities = data[\"City\"]\n",
    "print(cities)"
   ]
  },
  {
   "cell_type": "code",
   "execution_count": null,
   "id": "a06536e8",
   "metadata": {},
   "outputs": [],
   "source": [
    "cities[[3, 5, 7]]\n",
    "cities.sort_values()"
   ]
  },
  {
   "cell_type": "code",
   "execution_count": null,
   "id": "8dcd661b",
   "metadata": {},
   "outputs": [],
   "source": [
    "City = pd.read_csv(\"Cities.csv\", usecols = [\"City\", \"Country\"], index_col = \"City\")\n",
    "City = City[\"Country\"]"
   ]
  },
  {
   "cell_type": "code",
   "execution_count": null,
   "id": "05a8c82b",
   "metadata": {},
   "outputs": [],
   "source": [
    "city.get([\"Aizahai\", \"Alis\"])\n",
    "print(city.get([\"Aizahai\", \"Alis\"]))"
   ]
  },
  {
   "cell_type": "code",
   "execution_count": null,
   "id": "a927bcd5",
   "metadata": {},
   "outputs": [],
   "source": [
    "population = pop[\"Population\"]\n",
    "population"
   ]
  },
  {
   "cell_type": "code",
   "execution_count": null,
   "id": "eb9705c4",
   "metadata": {},
   "outputs": [],
   "source": []
  }
 ],
 "metadata": {
  "kernelspec": {
   "display_name": "Python 3 (ipykernel)",
   "language": "python",
   "name": "python3"
  },
  "language_info": {
   "codemirror_mode": {
    "name": "ipython",
    "version": 3
   },
   "file_extension": ".py",
   "mimetype": "text/x-python",
   "name": "python",
   "nbconvert_exporter": "python",
   "pygments_lexer": "ipython3",
   "version": "3.11.5"
  }
 },
 "nbformat": 4,
 "nbformat_minor": 5
}
